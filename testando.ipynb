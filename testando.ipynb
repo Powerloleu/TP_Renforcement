{
 "cells": [
  {
   "cell_type": "code",
   "execution_count": 1,
   "metadata": {},
   "outputs": [],
   "source": [
    "import pandas as pd\n",
    "from graphviz import Digraph\n",
    "import numpy as np"
   ]
  },
  {
   "cell_type": "code",
   "execution_count": 2,
   "metadata": {},
   "outputs": [
    {
     "data": {
      "text/html": [
       "<div>\n",
       "<style scoped>\n",
       "    .dataframe tbody tr th:only-of-type {\n",
       "        vertical-align: middle;\n",
       "    }\n",
       "\n",
       "    .dataframe tbody tr th {\n",
       "        vertical-align: top;\n",
       "    }\n",
       "\n",
       "    .dataframe thead th {\n",
       "        text-align: right;\n",
       "    }\n",
       "</style>\n",
       "<table border=\"1\" class=\"dataframe\">\n",
       "  <thead>\n",
       "    <tr style=\"text-align: right;\">\n",
       "      <th></th>\n",
       "      <th>Origin</th>\n",
       "      <th>Action</th>\n",
       "      <th>S0</th>\n",
       "      <th>S1</th>\n",
       "      <th>S2</th>\n",
       "    </tr>\n",
       "  </thead>\n",
       "  <tbody>\n",
       "    <tr>\n",
       "      <th>0</th>\n",
       "      <td>S0</td>\n",
       "      <td>NA</td>\n",
       "      <td>0.1</td>\n",
       "      <td>0.5</td>\n",
       "      <td>0.4</td>\n",
       "    </tr>\n",
       "    <tr>\n",
       "      <th>1</th>\n",
       "      <td>S1</td>\n",
       "      <td>a</td>\n",
       "      <td>0.2</td>\n",
       "      <td>0.3</td>\n",
       "      <td>0.5</td>\n",
       "    </tr>\n",
       "    <tr>\n",
       "      <th>2</th>\n",
       "      <td>S1</td>\n",
       "      <td>b</td>\n",
       "      <td>0.4</td>\n",
       "      <td>0.4</td>\n",
       "      <td>0.2</td>\n",
       "    </tr>\n",
       "    <tr>\n",
       "      <th>3</th>\n",
       "      <td>S2</td>\n",
       "      <td>NA</td>\n",
       "      <td>0.3</td>\n",
       "      <td>0.3</td>\n",
       "      <td>0.4</td>\n",
       "    </tr>\n",
       "  </tbody>\n",
       "</table>\n",
       "</div>"
      ],
      "text/plain": [
       "  Origin Action   S0   S1   S2\n",
       "0     S0     NA  0.1  0.5  0.4\n",
       "1     S1      a  0.2  0.3  0.5\n",
       "2     S1      b  0.4  0.4  0.2\n",
       "3     S2     NA  0.3  0.3  0.4"
      ]
     },
     "metadata": {},
     "output_type": "display_data"
    }
   ],
   "source": [
    "data = {\n",
    "    \"Origin\": [\"S0\", \"S1\", \"S1\", \"S2\"],\n",
    "    \"Action\": [\"NA\", \"a\", \"b\", \"NA\"],\n",
    "    \"S0\": [0.1, 0.2, 0.4, 0.3],\n",
    "    \"S1\": [0.5, 0.3, 0.4, 0.3],\n",
    "    \"S2\": [0.4, 0.5, 0.2, 0.4]\n",
    "}\n",
    "\n",
    "# Criando o DataFrame\n",
    "df = pd.DataFrame(data)\n",
    "\n",
    "# Exibindo o DataFrame\n",
    "display(df)\n"
   ]
  },
  {
   "cell_type": "code",
   "execution_count": 3,
   "metadata": {},
   "outputs": [
    {
     "data": {
      "text/plain": [
       "'mdp_graph_updated.png'"
      ]
     },
     "execution_count": 3,
     "metadata": {},
     "output_type": "execute_result"
    }
   ],
   "source": [
    "# Cria um objeto Graphviz para o gráfico direcionado\n",
    "dot = Digraph(comment='MDP')\n",
    "\n",
    "# Ajusta o tamanho do gráfico e configurações de layout\n",
    "dot.attr(size='15,15')  # Aumenta o tamanho do gráfico\n",
    "dot.attr('node', shape='circle', width='1', height='1', fontsize='12')  # Ajusta o tamanho dos nós\n",
    "dot.attr('edge', fontsize='10', style='solid')  # Ajusta estilo das arestas para sólido, aumenta a fonte\n",
    "\n",
    "# Adiciona os nós (estados)\n",
    "for state in df['Origin'].unique():\n",
    "    dot.node(state, state)\n",
    "\n",
    "# Adiciona as arestas (transições) sem diferenciar por ação\n",
    "for index, row in df.iterrows():\n",
    "    origin = row['Origin']\n",
    "    for dest in ['S0', 'S1', 'S2']:\n",
    "        if row[dest] > 0:\n",
    "            # Ação é incluída na label se não for \"NA\"\n",
    "            label = f\"{row['Action']}, {row[dest]}\" if row['Action'] != \"NA\" else f\"{row[dest]}\"\n",
    "            dot.edge(origin, dest, label=label)\n",
    "\n",
    "# Renderiza o gráfico em um arquivo\n",
    "dot.render('mdp_graph_updated', format='png', view=True)\n",
    "\n"
   ]
  },
  {
   "cell_type": "code",
   "execution_count": 4,
   "metadata": {},
   "outputs": [],
   "source": [
    "def random_walk(df, start_state, steps, action='a'):\n",
    "    current_state = start_state\n",
    "    path = [current_state]\n",
    "    \n",
    "    for _ in range(steps):\n",
    "        # Filtra as transições possíveis para o estado atual e a ação (incluindo \"NA\")\n",
    "        transitions = df[(df['Origin'] == current_state) & ((df['Action'] == action) | (df['Action'] == \"NA\"))]\n",
    "        \n",
    "        # Se não houver transições válidas, termina o loop\n",
    "        if transitions.empty:\n",
    "            print(\"No valid transitions from state\", current_state)\n",
    "            break\n",
    "        \n",
    "        # Assegura que estamos selecionando apenas as colunas de estados para as probabilidades\n",
    "        state_columns = [col for col in df.columns if col.startswith('S')]\n",
    "        probabilities = transitions[state_columns].values.flatten()\n",
    "        \n",
    "        # Verifica se a soma das probabilidades é 1, se não, ajusta\n",
    "        probabilities = probabilities / probabilities.sum()\n",
    "        \n",
    "        # Escolhe o próximo estado baseado nas probabilidades\n",
    "        next_state = np.random.choice(state_columns, p=probabilities)\n",
    "        \n",
    "        path.append(next_state)\n",
    "        current_state = next_state\n",
    "    \n",
    "    return path"
   ]
  },
  {
   "cell_type": "code",
   "execution_count": 5,
   "metadata": {},
   "outputs": [
    {
     "data": {
      "text/plain": [
       "['S0', 'S2', 'S1']"
      ]
     },
     "execution_count": 5,
     "metadata": {},
     "output_type": "execute_result"
    }
   ],
   "source": [
    "\n",
    "# Executa um random walk a partir do estado S0, com 10 passos, e ação 'a'\n",
    "random_walk_path = random_walk(df, 'S0', 2, 'a')\n",
    "random_walk_path"
   ]
  }
 ],
 "metadata": {
  "kernelspec": {
   "display_name": "base",
   "language": "python",
   "name": "python3"
  },
  "language_info": {
   "codemirror_mode": {
    "name": "ipython",
    "version": 3
   },
   "file_extension": ".py",
   "mimetype": "text/x-python",
   "name": "python",
   "nbconvert_exporter": "python",
   "pygments_lexer": "ipython3",
   "version": "3.11.3"
  }
 },
 "nbformat": 4,
 "nbformat_minor": 2
}
