{
 "cells": [
  {
   "cell_type": "markdown",
   "metadata": {},
   "source": [
    "# Probabilistic Computation Tree Logic"
   ]
  },
  {
   "cell_type": "code",
   "execution_count": 2,
   "metadata": {},
   "outputs": [],
   "source": [
    "from scipy.optimize import linprog\n",
    "import numpy as np\n",
    "import pandas as pd\n",
    "from mdp import run as run_mdp"
   ]
  },
  {
   "cell_type": "code",
   "execution_count": 51,
   "metadata": {},
   "outputs": [],
   "source": [
    "# Já definida em implementation_cours, aqui está incrementada para states com actions\n",
    "def find_states(df, target_state):\n",
    "    \"\"\"\n",
    "    Identifies states leading to a target state with certainty (S_sure), states that may lead to the target state (S_may),\n",
    "    and states that can never reach the target state (S_never) in a Markov chain represented by a DataFrame.\n",
    "\n",
    "    Parameters:\n",
    "    - df (pandas.DataFrame): DataFrame containing the transition probabilities with 'Origin' as states and other columns as possible next states.\n",
    "    - target_state (str): The state of interest to trace back from.\n",
    "\n",
    "    Returns:\n",
    "    - tuple of lists: A tuple containing three lists representing states that are sure to reach the target (S_sure),\n",
    "                      states that may reach the target (S_may), and states that can never reach the target (S_never).\n",
    "    \"\"\"\n",
    "    # Identify all possible states from the 'Origin' column\n",
    "    states = df['Origin'].tolist()\n",
    "    \n",
    "    # Initialize sets for S_sure, S_may, and S_never\n",
    "    S_sure = set()\n",
    "    S_may = set()\n",
    "    S_never = set(states)  # Initially, consider all states as S_never\n",
    "    S_sure.add(target_state)\n",
    "    S_never.remove(target_state)\n",
    "    \n",
    "    # To identify S_may and adjust S_never, consider reverse transitions.\n",
    "    # This involves more complex logic for indirect paths; here we simplify to only direct transitions.\n",
    "    visited = set()\n",
    "    to_visit = [target_state]\n",
    "    while to_visit:\n",
    "        current_state = to_visit.pop()\n",
    "        visited.add(current_state)\n",
    "        for origin in states:\n",
    "            if len(df.loc[df['Origin'] == origin]) == 1: # If there's only one possible action or NA\n",
    "                if df.loc[df['Origin'] == origin, current_state].values[0] > 0:\n",
    "                    if df.loc[df['Origin'] == origin, current_state].values[0] < 1.0:\n",
    "                        S_may.add(origin)\n",
    "                        if origin in S_never:\n",
    "                            S_never.remove(origin)\n",
    "                        if origin not in visited:\n",
    "                            to_visit.append(origin)\n",
    "                    else:\n",
    "                        S_sure.add(origin)\n",
    "                        if origin in S_never:\n",
    "                            S_never.remove(origin)\n",
    "            else:\n",
    "                if df.loc[df['Origin'] == origin, current_state].values.sum() > 0:\n",
    "                    if 1.0 not in df.loc[df['Origin'] == origin, current_state].values:\n",
    "                        S_may.add(origin)\n",
    "                        if origin in S_never:\n",
    "                            S_never.remove(origin)\n",
    "                        if origin not in visited:\n",
    "                            to_visit.append(origin)\n",
    "                    else:\n",
    "                        S_sure.add(origin)\n",
    "                        if origin in S_never:\n",
    "                            S_never.remove(origin)\n",
    "    \n",
    "    return list(S_sure), list(S_may), list(S_never)"
   ]
  },
  {
   "cell_type": "code",
   "execution_count": 52,
   "metadata": {},
   "outputs": [
    {
     "name": "stdout",
     "output_type": "stream",
     "text": [
      "ANTLR runtime and generated code versions disagree: 4.11.1!=4.13.1\n",
      "ANTLR runtime and generated code versions disagree: 4.11.1!=4.13.1\n",
      "Initialy declared states: ['S0', 'S1', 'S2']\n",
      "Initialy declared actions: ['a', 'b', 'c']\n",
      "Transition from S0 with no action and targets ['S1', 'S2'] with weights [5, 5]\n",
      "Transition from S1 with action b and targets ['S1', 'S0'] with weights [2, 8]\n",
      "Transition from S1 with action a and targets ['S2', 'S0', 'S1', 'S3'] with weights [1, 3, 6, 2]\n",
      "Transition from S2 with action c and targets ['S0', 'S1', 'S3'] with weights [5, 5, 10]\n",
      "Transition from S2 with action d and targets ['S0', 'S3'] with weights [5, 7]\n",
      "Transition from S3 with action e and targets ['S1', 'S2'] with weights [2, 2]\n",
      "\n",
      " ---------- WARNINGS WHEN PARSING -----------\n",
      "( 0 ) - Undeclared state S3 targeted in transition: S1 with action a, declared automaticaly\n",
      "( 1 ) - Undeclared action in transition: S2 with action d, declared automaticaly\n",
      "( 2 ) - Undeclared action in transition: S3 with action e, declared automaticaly\n",
      "( 3 ) - State S0 reward wasn't assigned, using zero as reward\n",
      "( 4 ) - State S1 reward wasn't assigned, using zero as reward\n",
      "( 5 ) - State S2 reward wasn't assigned, using zero as reward\n",
      "( 6 ) - State S3 reward wasn't assigned, using zero as reward\n"
     ]
    }
   ],
   "source": [
    "printer = run_mdp(path = \"mdp_examples\\\\correct_ex..mdp\", return_printer=True)"
   ]
  },
  {
   "cell_type": "code",
   "execution_count": 53,
   "metadata": {},
   "outputs": [
    {
     "name": "stdout",
     "output_type": "stream",
     "text": [
      "S_sure:\n",
      " ['S1']\n",
      "S_may:\n",
      " ['S1', 'S2', 'S0', 'S3']\n",
      "S_never:\n",
      " []\n"
     ]
    }
   ],
   "source": [
    "df = printer.transactions_prob\n",
    "\n",
    "S_sure, S_may, S_never = find_states(df, 'S1')\n",
    "\n",
    "S_sure, sorted(S_may), sorted(S_never)\n",
    "\n",
    "print(\"S_sure:\\n\", S_sure)\n",
    "print(\"S_may:\\n\", S_may)\n",
    "print(\"S_never:\\n\", S_never)"
   ]
  },
  {
   "cell_type": "markdown",
   "metadata": {},
   "source": [
    "# Solving system for markov chains (no actions)"
   ]
  },
  {
   "cell_type": "code",
   "execution_count": 54,
   "metadata": {},
   "outputs": [],
   "source": [
    "def solve_system(df, S_may, S_sure):\n",
    "    \"\"\"\n",
    "    Solves the system y = Ay + b for a given set of states.\n",
    "\n",
    "    This function computes the transition probability matrix A and vector b based on\n",
    "    the states specified in S_may and S_sure. Then, it solves the system of linear\n",
    "    equations to find y.\n",
    "\n",
    "    Parameters:\n",
    "    - df (pandas.DataFrame): DataFrame containing the transition probabilities.\n",
    "    - S_may (list): List of states that may eventually lead to the target state (S_sure).\n",
    "    - S_sure (list): List of target states which can be reached with certainty from the selected state.\n",
    "\n",
    "    Returns:\n",
    "    - A (numpy.ndarray): Transition probability matrix for states in S_may.\n",
    "    - b (numpy.ndarray): Vector containing probabilities of transitioning to states in S_sure from S_may.\n",
    "    - y (numpy.ndarray): Solution to the system of equations y = Ay + b.\n",
    "\n",
    "    Raises:\n",
    "    - np.linalg.LinAlgError: If the system of equations cannot be solved due to matrix singularity.\n",
    "    \"\"\"\n",
    "\n",
    "    # Ensure S_may and S_sure are lists\n",
    "    if not isinstance(S_may, list):\n",
    "        S_may = list(S_may)\n",
    "    if not isinstance(S_sure, list):\n",
    "        S_sure = list(S_sure)\n",
    "\n",
    "    # Create matrix A\n",
    "    A = df.loc[df['Origin'].isin(S_may), S_may].values\n",
    "\n",
    "    # Create vector b\n",
    "    b = np.sum(df.loc[df['Origin'].isin(S_may), S_sure].values, axis=1)\n",
    "\n",
    "    # Solve the system y = Ay + b\n",
    "    I = np.eye(len(S_may))  # Identity matrix\n",
    "    try:\n",
    "        y = np.linalg.solve(I - A, b)\n",
    "    except np.linalg.LinAlgError as e:\n",
    "        raise np.linalg.LinAlgError(f\"Error solving the system: {e}\")\n",
    "\n",
    "    return A, b, y\n"
   ]
  },
  {
   "cell_type": "code",
   "execution_count": 55,
   "metadata": {},
   "outputs": [
    {
     "name": "stdout",
     "output_type": "stream",
     "text": [
      "ANTLR runtime and generated code versions disagree: 4.11.1!=4.13.1\n",
      "ANTLR runtime and generated code versions disagree: 4.11.1!=4.13.1\n",
      "Initialy declared states: ['I', 'S0', 'S1', 'S2', 'S3', 'S4', 'S5', 'F1', 'F2', 'F3', 'F4', 'F5', 'F6']\n",
      "Initialy declared actions: ['NA']\n",
      "Transition from I with no action and targets ['S0', 'S1'] with weights [1, 1]\n",
      "Transition from S0 with no action and targets ['S2', 'S3'] with weights [1, 1]\n",
      "Transition from S1 with no action and targets ['S4', 'S5'] with weights [1, 1]\n",
      "Transition from S2 with no action and targets ['F1', 'S0'] with weights [1, 1]\n",
      "Transition from S3 with no action and targets ['F2', 'F3'] with weights [1, 1]\n",
      "Transition from S4 with no action and targets ['S1', 'F4'] with weights [1, 1]\n",
      "Transition from S5 with no action and targets ['F5', 'F6'] with weights [1, 1]\n",
      "\n",
      " ---------- WARNINGS WHEN PARSING -----------\n",
      "( 0 ) - State I reward wasn't assigned, using zero as reward\n",
      "( 1 ) - State S0 reward wasn't assigned, using zero as reward\n",
      "( 2 ) - State S1 reward wasn't assigned, using zero as reward\n",
      "( 3 ) - State S2 reward wasn't assigned, using zero as reward\n",
      "( 4 ) - State S3 reward wasn't assigned, using zero as reward\n",
      "( 5 ) - State S4 reward wasn't assigned, using zero as reward\n",
      "( 6 ) - State S5 reward wasn't assigned, using zero as reward\n",
      "( 7 ) - State F1 reward wasn't assigned, using zero as reward\n",
      "( 8 ) - State F2 reward wasn't assigned, using zero as reward\n",
      "( 9 ) - State F3 reward wasn't assigned, using zero as reward\n",
      "( 10 ) - State F4 reward wasn't assigned, using zero as reward\n",
      "( 11 ) - State F5 reward wasn't assigned, using zero as reward\n",
      "( 12 ) - State F6 reward wasn't assigned, using zero as reward\n"
     ]
    }
   ],
   "source": [
    "printer = run_mdp(path = \"mdp_examples\\\\lancer_de_pieces.mdp\", return_printer=True)"
   ]
  },
  {
   "cell_type": "code",
   "execution_count": 56,
   "metadata": {},
   "outputs": [
    {
     "name": "stdout",
     "output_type": "stream",
     "text": [
      "S_sure:\n",
      " ['S1']\n",
      "S_may:\n",
      " ['S1', 'I', 'S4']\n",
      "S_never:\n",
      " ['S5', 'S0', 'S3', 'S2']\n",
      "Matriz A:\n",
      " [[0.5 0.  0. ]\n",
      " [0.  0.  0.5]\n",
      " [0.5 0.  0. ]]\n",
      "Vetor b:\n",
      " [0.5 0.  0.5]\n",
      "Solução y:\n",
      " [1.  0.5 1. ]\n"
     ]
    }
   ],
   "source": [
    "df = printer.transactions_prob\n",
    "\n",
    "S_sure, S_may, S_never = find_states(df, 'S1')\n",
    "S_sure, sorted(S_may), sorted(S_never)\n",
    "\n",
    "print(\"S_sure:\\n\", S_sure)\n",
    "print(\"S_may:\\n\", S_may)\n",
    "print(\"S_never:\\n\", S_never)\n",
    "A, b, y = solve_system(df, S_may, S_sure)\n",
    "\n",
    "print(\"Matriz A:\\n\", A)\n",
    "print(\"Vetor b:\\n\", b)\n",
    "print(\"Solução y:\\n\", y)"
   ]
  },
  {
   "cell_type": "markdown",
   "metadata": {},
   "source": [
    "# Solving system for a MDP (Markovian Decision Process, avec actions)"
   ]
  },
  {
   "cell_type": "code",
   "execution_count": 21,
   "metadata": {},
   "outputs": [
    {
     "name": "stdout",
     "output_type": "stream",
     "text": [
      "Resultado da Otimização:         message: Optimization terminated successfully. (HiGHS Status 7: Optimal)\n",
      "        success: True\n",
      "         status: 0\n",
      "            fun: 0.0\n",
      "              x: [ 0.000e+00  1.000e+00  0.000e+00  1.000e+00]\n",
      "            nit: 0\n",
      "          lower:  residual: [ 0.000e+00  1.000e+00  0.000e+00  1.000e+00]\n",
      "                 marginals: [ 5.000e-01  0.000e+00  1.000e+00  0.000e+00]\n",
      "          upper:  residual: [ 1.000e+00  0.000e+00  1.000e+00  0.000e+00]\n",
      "                 marginals: [ 0.000e+00  0.000e+00  0.000e+00  0.000e+00]\n",
      "          eqlin:  residual: []\n",
      "                 marginals: []\n",
      "        ineqlin:  residual: [ 0.000e+00  0.000e+00]\n",
      "                 marginals: [-0.000e+00 -0.000e+00]\n",
      " mip_node_count: 0\n",
      " mip_dual_bound: 0.0\n",
      "        mip_gap: 0.0\n"
     ]
    }
   ],
   "source": [
    "# Coeficientes da função objetivo: probabilidades de alcançar W (minimizar)\n",
    "c = [0.5, 0, 1.0, 0]  # Probabilidades de S0->W e S2->W\n",
    "\n",
    "# Restrições: garantir a seleção de ao menos uma ação para cada estado relevante\n",
    "# Como são ações binárias, cada ação é ou não escolhida (0 ou 1)\n",
    "A = [\n",
    "    [-1, -1, 0, 0],  # Para garantir que pelo menos uma ação seja selecionada de S0\n",
    "    [0, 0, -1, -1]   # Para garantir que pelo menos uma ação seja selecionada de S2\n",
    "]\n",
    "b = [-1, -1]  # Pelo menos uma ação deve ser escolhida de cada\n",
    "\n",
    "# Limites para as variáveis de decisão\n",
    "x_bounds = [(0, 1) for _ in range(len(c))]  # Ações binárias\n",
    "\n",
    "# Solução do problema de otimização\n",
    "result = linprog(c, A_ub=A, b_ub=b, bounds=x_bounds, method='highs')\n",
    "\n",
    "print(\"Resultado da Otimização:\", result)\n"
   ]
  },
  {
   "cell_type": "code",
   "execution_count": 105,
   "metadata": {},
   "outputs": [],
   "source": [
    "def solve_system(df, S_may, S_sure):\n",
    "    # Initialize lists for inequality and equality constraints\n",
    "    A_ub, b_ub, A_eq, b_eq = [], [], [], []\n",
    "    \n",
    "    # Iterate over source states in S_may\n",
    "    for source_state in S_may:\n",
    "        # Check if there is only one transition from the source state\n",
    "        if len(df.loc[df['Origin'] == source_state]) == 1:\n",
    "            # If only one transition, add it as an equality constraint\n",
    "            A_eq.append(df.loc[df['Origin'] == source_state, S_may].values)\n",
    "            b_eq.append(np.sum(df.loc[df['Origin'] == source_state, S_sure].values, axis=1))\n",
    "        else:\n",
    "            # If multiple transitions, add them as inequality constraints\n",
    "            for i in range(len(df.loc[df['Origin'] == source_state, S_may].values)):\n",
    "                A_ub.append(df.loc[df['Origin'] == source_state, S_may].values[i])\n",
    "                b_ub.append(1 - np.sum(df.loc[df['Origin'] == source_state, S_sure].values, axis=1)[i])\n",
    "    \n",
    "    c = np.zeros(len(S_may))\n",
    "    \n",
    "    A_ub, b_ub, A_eq, b_eq = [None if not v else v for v in [A_ub, b_ub, A_eq, b_eq]]\n",
    "    A_eq, B_eq = [np.vstack(m) if m is not None else None for m in [A_eq, A_ub]]\n",
    "    \n",
    "    # Solve the linear programming problem\n",
    "    print(f\"A_ub: {A_ub}\\n\")\n",
    "    print(f\"b_ub: {b_ub}\\n\")\n",
    "    print(f\"A_eq: {A_eq}\\n\")\n",
    "    print(f\"b_eb: {b_eq}\\n\")\n",
    "    print(f\"c: {c}\")\n",
    "\n",
    "    res = linprog(c=c, A_ub=A_ub, b_ub=b_ub, A_eq=A_eq, b_eq=b_eq)\n",
    "\n",
    "    return res"
   ]
  },
  {
   "cell_type": "markdown",
   "metadata": {},
   "source": [
    "# Não foi testado ainda! Verificar numericamente abaixo"
   ]
  },
  {
   "cell_type": "code",
   "execution_count": 109,
   "metadata": {},
   "outputs": [
    {
     "name": "stdout",
     "output_type": "stream",
     "text": [
      "ANTLR runtime and generated code versions disagree: 4.11.1!=4.13.1\n",
      "ANTLR runtime and generated code versions disagree: 4.11.1!=4.13.1\n",
      "Initialy declared states: ['I', 'S0', 'S1', 'S2', 'S3', 'S4', 'S5', 'F1', 'F2', 'F3', 'F4', 'F5', 'F6']\n",
      "Initialy declared actions: ['NA']\n",
      "Transition from I with no action and targets ['S0', 'S1'] with weights [1, 1]\n",
      "Transition from S0 with no action and targets ['S2', 'S3'] with weights [1, 1]\n",
      "Transition from S1 with no action and targets ['S4', 'S5'] with weights [1, 1]\n",
      "Transition from S2 with no action and targets ['F1', 'S0'] with weights [1, 1]\n",
      "Transition from S3 with no action and targets ['F2', 'F3'] with weights [1, 1]\n",
      "Transition from S4 with no action and targets ['S1', 'F4'] with weights [1, 1]\n",
      "Transition from S5 with no action and targets ['F5', 'F6'] with weights [1, 1]\n",
      "\n",
      " ---------- WARNINGS WHEN PARSING -----------\n",
      "( 0 ) - State I reward wasn't assigned, using zero as reward\n",
      "( 1 ) - State S0 reward wasn't assigned, using zero as reward\n",
      "( 2 ) - State S1 reward wasn't assigned, using zero as reward\n",
      "( 3 ) - State S2 reward wasn't assigned, using zero as reward\n",
      "( 4 ) - State S3 reward wasn't assigned, using zero as reward\n",
      "( 5 ) - State S4 reward wasn't assigned, using zero as reward\n",
      "( 6 ) - State S5 reward wasn't assigned, using zero as reward\n",
      "( 7 ) - State F1 reward wasn't assigned, using zero as reward\n",
      "( 8 ) - State F2 reward wasn't assigned, using zero as reward\n",
      "( 9 ) - State F3 reward wasn't assigned, using zero as reward\n",
      "( 10 ) - State F4 reward wasn't assigned, using zero as reward\n",
      "( 11 ) - State F5 reward wasn't assigned, using zero as reward\n",
      "( 12 ) - State F6 reward wasn't assigned, using zero as reward\n"
     ]
    }
   ],
   "source": [
    "printer = run_mdp(path = \"mdp_examples\\\\lancer_de_pieces.mdp\", return_printer=True)"
   ]
  },
  {
   "cell_type": "code",
   "execution_count": 108,
   "metadata": {},
   "outputs": [
    {
     "name": "stdout",
     "output_type": "stream",
     "text": [
      "S_sure:\n",
      " ['S1']\n",
      "S_may:\n",
      " ['S1', 'I', 'S4']\n",
      "S_never:\n",
      " ['S5', 'S0', 'S3', 'S2']\n",
      "A_ub: None\n",
      "\n",
      "b_ub: None\n",
      "\n",
      "A_eq: [[0.  0.  0.5]\n",
      " [0.5 0.  0. ]\n",
      " [0.5 0.  0. ]]\n",
      "\n",
      "b_eb: [array([0.]), array([0.5]), array([0.5])]\n",
      "\n",
      "c: [0. 0. 0.]\n"
     ]
    },
    {
     "data": {
      "text/plain": [
       "        message: Optimization terminated successfully. (HiGHS Status 7: Optimal)\n",
       "        success: True\n",
       "         status: 0\n",
       "            fun: 0.0\n",
       "              x: [ 1.000e+00  0.000e+00  0.000e+00]\n",
       "            nit: 0\n",
       "          lower:  residual: [ 1.000e+00  0.000e+00  0.000e+00]\n",
       "                 marginals: [ 0.000e+00  0.000e+00  0.000e+00]\n",
       "          upper:  residual: [       inf        inf        inf]\n",
       "                 marginals: [ 0.000e+00  0.000e+00  0.000e+00]\n",
       "          eqlin:  residual: [ 0.000e+00  0.000e+00  0.000e+00]\n",
       "                 marginals: [-0.000e+00 -0.000e+00 -0.000e+00]\n",
       "        ineqlin:  residual: []\n",
       "                 marginals: []\n",
       " mip_node_count: 0\n",
       " mip_dual_bound: 0.0\n",
       "        mip_gap: 0.0"
      ]
     },
     "execution_count": 108,
     "metadata": {},
     "output_type": "execute_result"
    }
   ],
   "source": [
    "df = printer.transactions_prob\n",
    "\n",
    "S_sure, S_may, S_never = find_states(df, 'S1')\n",
    "S_sure, sorted(S_may), sorted(S_never)\n",
    "\n",
    "print(\"S_sure:\\n\", S_sure)\n",
    "print(\"S_may:\\n\", S_may)\n",
    "print(\"S_never:\\n\", S_never)\n",
    "\n",
    "solve_system(df, S_may, S_sure)"
   ]
  }
 ],
 "metadata": {
  "kernelspec": {
   "display_name": "python3_10_infoia",
   "language": "python",
   "name": "python3"
  },
  "language_info": {
   "codemirror_mode": {
    "name": "ipython",
    "version": 3
   },
   "file_extension": ".py",
   "mimetype": "text/x-python",
   "name": "python",
   "nbconvert_exporter": "python",
   "pygments_lexer": "ipython3",
   "version": "3.10.12"
  }
 },
 "nbformat": 4,
 "nbformat_minor": 2
}
